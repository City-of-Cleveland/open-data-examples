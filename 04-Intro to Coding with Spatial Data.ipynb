{
 "cells": [
  {
   "cell_type": "markdown",
   "metadata": {
    "application/vnd.databricks.v1+cell": {
     "cellMetadata": {
      "byteLimit": 2048000,
      "rowLimit": 10000
     },
     "inputWidgets": {},
     "nuid": "93b0e141-9afd-41e6-a16e-0b3d03d18b73",
     "showTitle": false,
     "title": ""
    }
   },
   "source": [
    "## Geospatial Coding With Cleveland's Open Data Portal\n",
    "**This notebook will teach you the following:**\n",
    "* How to programatically access data using the [ArcGIS Online API for Python](https://developers.arcgis.com/python/latest/).\n",
    "* How to convert that data into a [geopandas GeoDataFrame](https://geopandas.org/en/stable/docs/reference/api/geopandas.GeoDataFrame.html).\n",
    "* How to plot spatial data on a map using the [`.plot`](https://geopandas.org/en/stable/docs/user_guide/mapping.html) function.\n",
    "* How to perform a spatial join using the [`.sjoin`](https://geopandas.org/en/stable/docs/reference/api/geopandas.sjoin.html) function.\n",
    "* Analyze and visualize your data using `geopandas` and `seaborn`."
   ]
  },
  {
   "cell_type": "markdown",
   "metadata": {
    "application/vnd.databricks.v1+cell": {
     "cellMetadata": {
      "byteLimit": 2048000,
      "rowLimit": 10000
     },
     "inputWidgets": {},
     "nuid": "cd21478d-f2a1-4de3-88e4-ae6e14abe508",
     "showTitle": false,
     "title": ""
    }
   },
   "source": [
    "#### Step 1: Setup your environment\n",
    "Before you start, you'll the following packages:\n",
    "* [`geopandas`](https://geopandas.org/en/stable/)\n",
    "* [`arcgis`](https://developers.arcgis.com/python/latest/)\n",
    "* [`seaborn`](https://seaborn.pydata.org/index.html)  \n",
    "\n",
    "`geopandas` is a package that allows you to work with spatial data in Python. `geopandas` is built off of the `pandas` package, which is most commonly used data analysis package for Python. `pandas` uses what are called `DataFrames` to store data. [Click here](https://www.w3schools.com/python/pandas/pandas_dataframes.asp) to learn more about `DataFrames`. `geopandas` takes the concept of a `DataFrame` a step further, by introducing what is known as a [`GeoDataFrame`](https://geopandas.org/en/stable/docs/reference/api/geopandas.GeoDataFrame.html). `GeoDataFrames` are capable of storing spatial information (i.e Points, Polygons, and Lines) in addition to other data.\n",
    "\n",
    "`arcgis` is a wrapper for the [ArcGIS Online REST API](https://developers.arcgis.com/rest/). Since Cleveland's Open Data Portal is built on ArcGIS Online, we can use this package to programatically connect to and access data from the service.\n",
    "\n",
    "If you don't already have these packages installed, you can install them using the following code in the command line:  \n",
    "\n",
    "```\n",
    "pip install geopandas\n",
    "pip install arcgis\n",
    "pip install seaborn\n",
    "```  \n",
    "\n",
    "[Click here](https://packaging.python.org/en/latest/tutorials/installing-packages/) to learn more about installing packages in Python."
   ]
  },
  {
   "cell_type": "code",
   "execution_count": 0,
   "metadata": {
    "application/vnd.databricks.v1+cell": {
     "cellMetadata": {
      "byteLimit": 2048000,
      "rowLimit": 10000
     },
     "inputWidgets": {},
     "nuid": "e2f3e285-1bcf-42e3-af30-2e4675dc99da",
     "showTitle": false,
     "title": ""
    }
   },
   "outputs": [
    {
     "output_type": "display_data",
     "data": {
      "application/vnd.databricks.v1+h3_hint": "",
      "text/plain": []
     },
     "metadata": {},
     "output_type": "display_data"
    }
   ],
   "source": [
    "import geopandas as gpd\n",
    "import arcgis\n",
    "import seaborn as sns"
   ]
  },
  {
   "cell_type": "markdown",
   "metadata": {
    "application/vnd.databricks.v1+cell": {
     "cellMetadata": {
      "byteLimit": 2048000,
      "rowLimit": 10000
     },
     "inputWidgets": {},
     "nuid": "4ff8e2e7-5c13-4f75-97ee-822c18d7c94f",
     "showTitle": false,
     "title": ""
    }
   },
   "source": [
    "#### Step 2: Load in data using the `arcgis` package\n",
    "We will be using two datasets from [Cleveland Open Data](data.clevelandohio.gov) for this analysis:  \n",
    "\n",
    "[**Cleveland Traffic Crashes**](https://data.clevelandohio.gov/datasets/44239d50c4f448dc9789ff4f7739e524_62/explore?location=41.510315%2C-81.727496%2C9.76)\n",
    ">Point layer of all Cleveland crash locations exported from Ohio Department of Transportation (ODOT) GIS Crash Analysis Tool (GCAT).\n",
    "\n",
    "[**Cleveland Neighborhoods**](https://data.clevelandohio.gov/datasets/b2a2da54401a41e78dd71563f01f5273_0/explore?location=41.504856%2C-81.709890%2C11.84)\n",
    ">Reference boundaries of Cleveland neighborhoods, which are also referred to as Statisical Planning Areas (SPAs).\n",
    "\n",
    "As previously mentioned, we will access this data using the [ArcGIS Online API for Python](https://developers.arcgis.com/python/latest/). This will be achieved in 5 steps.\n",
    "\n",
    "First, load in the [*FeatureService*](https://developers.arcgis.com/rest/services-reference/enterprise/feature-service/) for the dataset using the service's REST URL:"
   ]
  },
  {
   "cell_type": "code",
   "execution_count": 0,
   "metadata": {
    "application/vnd.databricks.v1+cell": {
     "cellMetadata": {
      "byteLimit": 2048000,
      "rowLimit": 10000
     },
     "inputWidgets": {},
     "nuid": "83d5147d-51ca-4f6a-b452-a4025822d888",
     "showTitle": false,
     "title": ""
    }
   },
   "outputs": [
    {
     "output_type": "stream",
     "name": "stdout",
     "output_type": "stream",
     "text": [
      "<FeatureLayer url:\"https://services3.arcgis.com/dty2kHktVXHrqO8i/arcgis/rest/services/Cleveland_Traffic_Crashes_view/FeatureServer/62\">\n"
     ]
    }
   ],
   "source": [
    "# First we will need the URL to the FeatureService\n",
    "crashes_service_url = \"https://services3.arcgis.com/dty2kHktVXHrqO8i/arcgis/rest/services/Cleveland_Traffic_Crashes_view/FeatureServer/62/\"\n",
    "\n",
    "# Then we will connect to the service using the ArcGIS Online API\n",
    "crashes_featureservice = arcgis.features.FeatureLayer(crashes_service_url)\n",
    "print(crashes_featureservice)"
   ]
  },
  {
   "cell_type": "markdown",
   "metadata": {
    "application/vnd.databricks.v1+cell": {
     "cellMetadata": {
      "byteLimit": 2048000,
      "rowLimit": 10000
     },
     "inputWidgets": {},
     "nuid": "449e473a-9fdf-4431-b063-154d0b99e93c",
     "showTitle": false,
     "title": ""
    }
   },
   "source": [
    "Query the *FeatureService* to access its underlying data. In ArcGIS, this data structure is called a [*FeatureSet*](https://developers.arcgis.com/rest/services-reference/enterprise/featureset-object/), which is a collection of [*Features*](https://developers.arcgis.com/rest/services-reference/enterprise/feature-object/):"
   ]
  },
  {
   "cell_type": "code",
   "execution_count": 0,
   "metadata": {
    "application/vnd.databricks.v1+cell": {
     "cellMetadata": {
      "byteLimit": 2048000,
      "rowLimit": 10000
     },
     "inputWidgets": {},
     "nuid": "2190b915-612e-4c0c-ab25-3463bc010c9e",
     "showTitle": false,
     "title": ""
    }
   },
   "outputs": [
    {
     "output_type": "stream",
     "name": "stderr",
     "output_type": "stream",
     "text": [
      "IOStream.flush timed out\n"
     ]
    }
   ],
   "source": [
    "# Once we've connected to the FeatureService, we can query it to get the actual data.\n",
    "crashes_featureset = crashes_featureservice.query()"
   ]
  },
  {
   "cell_type": "markdown",
   "metadata": {
    "application/vnd.databricks.v1+cell": {
     "cellMetadata": {
      "byteLimit": 2048000,
      "rowLimit": 10000
     },
     "inputWidgets": {},
     "nuid": "3ac21a85-0b8c-4576-b3fb-d236b284c805",
     "showTitle": false,
     "title": ""
    }
   },
   "source": [
    "Extract the [*Coordinate Reference System*](https://en.wikipedia.org/wiki/Spatial_reference_system) (CRS) from the *FeatureSet*. This will allow for us to know *how* the data is mapped on the Earth's surface:"
   ]
  },
  {
   "cell_type": "code",
   "execution_count": 0,
   "metadata": {
    "application/vnd.databricks.v1+cell": {
     "cellMetadata": {
      "byteLimit": 2048000,
      "rowLimit": 10000
     },
     "inputWidgets": {},
     "nuid": "8b8db2c1-4a5e-44ef-b362-1dfa1bca704f",
     "showTitle": false,
     "title": ""
    }
   },
   "outputs": [
    {
     "output_type": "stream",
     "name": "stdout",
     "output_type": "stream",
     "text": [
      "The EPSG ID of the CRS is 3734\n"
     ]
    }
   ],
   "source": [
    "# Let's get the Coordinate Reference System (CRS) from the above FeatureSet\n",
    "crashes_crs = crashes_featureset.spatial_reference['latestWkid']\n",
    "print(f\"The EPSG ID of the CRS is {crashes_crs}\")"
   ]
  },
  {
   "cell_type": "markdown",
   "metadata": {
    "application/vnd.databricks.v1+cell": {
     "cellMetadata": {
      "byteLimit": 2048000,
      "rowLimit": 10000
     },
     "inputWidgets": {},
     "nuid": "157b1af6-ff3e-4549-a8b7-3cefcb64fb47",
     "showTitle": false,
     "title": ""
    }
   },
   "source": [
    "Extract a `DataFrame` from the *FeatureSet* using the *FeatureSet*'s `.sdf` property:"
   ]
  },
  {
   "cell_type": "code",
   "execution_count": 0,
   "metadata": {
    "application/vnd.databricks.v1+cell": {
     "cellMetadata": {
      "byteLimit": 2048000,
      "rowLimit": 10000
     },
     "inputWidgets": {},
     "nuid": "bce1e7c9-0f45-43da-ba77-e2f8691e5be4",
     "showTitle": false,
     "title": ""
    }
   },
   "outputs": [
    {
     "output_type": "execute_result",
     "data": {
      "text/html": [
       "<div>\n",
       "<style scoped>\n",
       "    .dataframe tbody tr th:only-of-type {\n",
       "        vertical-align: middle;\n",
       "    }\n",
       "\n",
       "    .dataframe tbody tr th {\n",
       "        vertical-align: top;\n",
       "    }\n",
       "\n",
       "    .dataframe thead th {\n",
       "        text-align: right;\n",
       "    }\n",
       "</style>\n",
       "<table border=\"1\" class=\"dataframe\">\n",
       "  <thead>\n",
       "    <tr style=\"text-align: right;\">\n",
       "      <th></th>\n",
       "      <th>OBJECTID</th>\n",
       "      <th>DOCUMENT_NBR</th>\n",
       "      <th>CRASH_YR</th>\n",
       "      <th>CRASH_MONTH_YEAR</th>\n",
       "      <th>DISTRICT_NBR</th>\n",
       "      <th>NLFID</th>\n",
       "      <th>NLF_JUR_CD</th>\n",
       "      <th>NLF_COUNTY_CD</th>\n",
       "      <th>COUNTY_LOG_NBR</th>\n",
       "      <th>ODOT_LATITUDE_NBR</th>\n",
       "      <th>ODOT_LONGITUDE_NBR</th>\n",
       "      <th>ODOT_FIPS_CD</th>\n",
       "      <th>AREA_CODE</th>\n",
       "      <th>CRASH_DATE</th>\n",
       "      <th>CRASH_SEVERITY_CD</th>\n",
       "      <th>CRASH_TYPE_CD</th>\n",
       "      <th>DAY_IN_WEEK_CD</th>\n",
       "      <th>DISTRACTED_DRIVER_IND</th>\n",
       "      <th>FACILITY_TYPE_CD</th>\n",
       "      <th>FHWA_RDWY_DEPARTURE_IND</th>\n",
       "      <th>FREEWAY_IND</th>\n",
       "      <th>FUNCTIONAL_CLASS_CD</th>\n",
       "      <th>HOUR_OF_CRASH</th>\n",
       "      <th>INCAPAC_INJURIES_NBR</th>\n",
       "      <th>INTERCHANGE_ID</th>\n",
       "      <th>INTERSECTION_ID_CURRENT</th>\n",
       "      <th>INTERSECTION_LEG_ID</th>\n",
       "      <th>INTERSTATE_IND</th>\n",
       "      <th>INV_LOG_NBR</th>\n",
       "      <th>INV_NLFID</th>\n",
       "      <th>IS_COMMERCIAL_RELATED</th>\n",
       "      <th>LIGHT_COND_PRIMARY_CD</th>\n",
       "      <th>LOCAL_REPORT_NUMBER_ID</th>\n",
       "      <th>MAINTENANCE_AUTHORITY_CD</th>\n",
       "      <th>MONTH_OF_CRASH</th>\n",
       "      <th>NHS_CD</th>\n",
       "      <th>NO_INJURY_REPORTED_NBR</th>\n",
       "      <th>NON_INCAPAC_INJURIES_NBR</th>\n",
       "      <th>NUMBER_OF_UNITS_NBR</th>\n",
       "      <th>ODOT_CITY_VILLAGE_TWP_NME</th>\n",
       "      <th>...</th>\n",
       "      <th>U1_TRAFFIC_CONTROL_CD</th>\n",
       "      <th>U1_TURN_CD</th>\n",
       "      <th>U1_TYPE_OF_UNIT_CD</th>\n",
       "      <th>U1_UNIT_SPEED_NBR</th>\n",
       "      <th>U2_AGE_NBR</th>\n",
       "      <th>U2_CONT_CIR_PRIMARY_CD</th>\n",
       "      <th>U2_DIRECTION_FROM_CD</th>\n",
       "      <th>U2_DIRECTION_TO_CD</th>\n",
       "      <th>U2_DISTRACTED_BY_1_CD</th>\n",
       "      <th>U2_GENDER_CD</th>\n",
       "      <th>U2_NON_MOTORIST_LOC_CD</th>\n",
       "      <th>U2_ODPS_UNIT_NBR</th>\n",
       "      <th>U2_POSTED_SPEED_NBR</th>\n",
       "      <th>U2_PRECRASH_ACTION_CD</th>\n",
       "      <th>U2_SEQ_OF_EVENTS_1_CD</th>\n",
       "      <th>U2_SEQ_OF_EVENTS_2_CD</th>\n",
       "      <th>U2_SEQ_OF_EVENTS_3_CD</th>\n",
       "      <th>U2_SEQ_OF_EVENTS_4_CD</th>\n",
       "      <th>U2_SEQ_OF_EVENTS_5_CD</th>\n",
       "      <th>U2_SEQ_OF_EVENTS_6_CD</th>\n",
       "      <th>U2_SPECIAL_FUNCTION_CD</th>\n",
       "      <th>U2_TRAFFIC_CONTROL_CD</th>\n",
       "      <th>U2_TURN_CD</th>\n",
       "      <th>U2_TYPE_OF_UNIT_CD</th>\n",
       "      <th>U2_UNIT_SPEED_NBR</th>\n",
       "      <th>U3_CONT_CIR_PRIMARY_CD</th>\n",
       "      <th>U3_ODPS_UNIT_NBR</th>\n",
       "      <th>U3_PRECRASH_ACTION_CD</th>\n",
       "      <th>U3_SEQ_OF_EVENTS_1_CD</th>\n",
       "      <th>U3_SEQ_OF_EVENTS_2_CD</th>\n",
       "      <th>U3_SEQ_OF_EVENTS_3_CD</th>\n",
       "      <th>U3_SEQ_OF_EVENTS_4_CD</th>\n",
       "      <th>U3_SEQ_OF_EVENTS_5_CD</th>\n",
       "      <th>U3_SEQ_OF_EVENTS_6_CD</th>\n",
       "      <th>U3_SPECIAL_FUNCTION_CD</th>\n",
       "      <th>U3_TRAFFIC_CONTROL_CD</th>\n",
       "      <th>U3_TYPE_OF_UNIT_CD</th>\n",
       "      <th>UNRESTRAIN_OCCUPANTS</th>\n",
       "      <th>WEATHER_COND_CD</th>\n",
       "      <th>SHAPE</th>\n",
       "    </tr>\n",
       "  </thead>\n",
       "  <tbody>\n",
       "    <tr>\n",
       "      <th>0</th>\n",
       "      <td>1</td>\n",
       "      <td>20174001939.0</td>\n",
       "      <td>2017.0</td>\n",
       "      <td>1/1/2017 12:00:00 AM</td>\n",
       "      <td>12.0</td>\n",
       "      <td>CCUYCR00398**C</td>\n",
       "      <td>C</td>\n",
       "      <td>CUY</td>\n",
       "      <td>0.844</td>\n",
       "      <td>41.451878</td>\n",
       "      <td>-81.621368</td>\n",
       "      <td>16000</td>\n",
       "      <td>17668</td>\n",
       "      <td>1/19/2017 12:00:00 AM</td>\n",
       "      <td>5.0</td>\n",
       "      <td>5.0</td>\n",
       "      <td>5.0</td>\n",
       "      <td>N</td>\n",
       "      <td>&lt;NA&gt;</td>\n",
       "      <td>N</td>\n",
       "      <td>N</td>\n",
       "      <td>4.0</td>\n",
       "      <td>14.0</td>\n",
       "      <td>0.0</td>\n",
       "      <td>&lt;NA&gt;</td>\n",
       "      <td>97fca815-7530-4e41-89fc-f3d30d184b47</td>\n",
       "      <td>5603e287-f6d5-46d4-b8f1-de3082166e10</td>\n",
       "      <td>N</td>\n",
       "      <td>0.844</td>\n",
       "      <td>CCUYCR00398**C</td>\n",
       "      <td>Y</td>\n",
       "      <td>1.0</td>\n",
       "      <td>00912</td>\n",
       "      <td>4.0</td>\n",
       "      <td>1.0</td>\n",
       "      <td>&lt;NA&gt;</td>\n",
       "      <td>2.0</td>\n",
       "      <td>0.0</td>\n",
       "      <td>2.0</td>\n",
       "      <td>CLEVELAND</td>\n",
       "      <td>...</td>\n",
       "      <td>6.0</td>\n",
       "      <td>NT</td>\n",
       "      <td>19.0</td>\n",
       "      <td>20.0</td>\n",
       "      <td>55.0</td>\n",
       "      <td>1.0</td>\n",
       "      <td>1.0</td>\n",
       "      <td>2.0</td>\n",
       "      <td>1.0</td>\n",
       "      <td>F</td>\n",
       "      <td>&lt;NA&gt;</td>\n",
       "      <td>1.0</td>\n",
       "      <td>25.0</td>\n",
       "      <td>11.0</td>\n",
       "      <td>20.0</td>\n",
       "      <td>&lt;NA&gt;</td>\n",
       "      <td>&lt;NA&gt;</td>\n",
       "      <td>&lt;NA&gt;</td>\n",
       "      <td>&lt;NA&gt;</td>\n",
       "      <td>&lt;NA&gt;</td>\n",
       "      <td>4.0</td>\n",
       "      <td>6.0</td>\n",
       "      <td>NT</td>\n",
       "      <td>19.0</td>\n",
       "      <td>&lt;NA&gt;</td>\n",
       "      <td>&lt;NA&gt;</td>\n",
       "      <td>&lt;NA&gt;</td>\n",
       "      <td>&lt;NA&gt;</td>\n",
       "      <td>&lt;NA&gt;</td>\n",
       "      <td>&lt;NA&gt;</td>\n",
       "      <td>&lt;NA&gt;</td>\n",
       "      <td>&lt;NA&gt;</td>\n",
       "      <td>&lt;NA&gt;</td>\n",
       "      <td>&lt;NA&gt;</td>\n",
       "      <td>&lt;NA&gt;</td>\n",
       "      <td>&lt;NA&gt;</td>\n",
       "      <td>&lt;NA&gt;</td>\n",
       "      <td>0.0</td>\n",
       "      <td>1.0</td>\n",
       "      <td>{\"x\": 2209355.6854842156, \"y\": 651613.02818214...</td>\n",
       "    </tr>\n",
       "    <tr>\n",
       "      <th>1</th>\n",
       "      <td>2</td>\n",
       "      <td>20174001941.0</td>\n",
       "      <td>2017.0</td>\n",
       "      <td>1/1/2017 12:00:00 AM</td>\n",
       "      <td>12.0</td>\n",
       "      <td>CCUYCR00721**C</td>\n",
       "      <td>C</td>\n",
       "      <td>CUY</td>\n",
       "      <td>0.579</td>\n",
       "      <td>41.499732</td>\n",
       "      <td>-81.680842</td>\n",
       "      <td>16000</td>\n",
       "      <td>17668</td>\n",
       "      <td>1/20/2017 12:00:00 AM</td>\n",
       "      <td>3.0</td>\n",
       "      <td>8.0</td>\n",
       "      <td>6.0</td>\n",
       "      <td>N</td>\n",
       "      <td>&lt;NA&gt;</td>\n",
       "      <td>N</td>\n",
       "      <td>N</td>\n",
       "      <td>5.0</td>\n",
       "      <td>6.0</td>\n",
       "      <td>0.0</td>\n",
       "      <td>&lt;NA&gt;</td>\n",
       "      <td>5fe1d5c8-fa09-4373-8d94-334e1fd2392d</td>\n",
       "      <td>58b206d5-f2d5-4b30-b01a-2d379cf3a123</td>\n",
       "      <td>N</td>\n",
       "      <td>0.579</td>\n",
       "      <td>CCUYCR00721**C</td>\n",
       "      <td>Y</td>\n",
       "      <td>2.0</td>\n",
       "      <td>00911</td>\n",
       "      <td>4.0</td>\n",
       "      <td>1.0</td>\n",
       "      <td>&lt;NA&gt;</td>\n",
       "      <td>1.0</td>\n",
       "      <td>1.0</td>\n",
       "      <td>2.0</td>\n",
       "      <td>CLEVELAND</td>\n",
       "      <td>...</td>\n",
       "      <td>2.0</td>\n",
       "      <td>NT</td>\n",
       "      <td>23.0</td>\n",
       "      <td>3.0</td>\n",
       "      <td>48.0</td>\n",
       "      <td>1.0</td>\n",
       "      <td>1.0</td>\n",
       "      <td>9.0</td>\n",
       "      <td>1.0</td>\n",
       "      <td>M</td>\n",
       "      <td>&lt;NA&gt;</td>\n",
       "      <td>1.0</td>\n",
       "      <td>25.0</td>\n",
       "      <td>6.0</td>\n",
       "      <td>14.0</td>\n",
       "      <td>&lt;NA&gt;</td>\n",
       "      <td>&lt;NA&gt;</td>\n",
       "      <td>&lt;NA&gt;</td>\n",
       "      <td>&lt;NA&gt;</td>\n",
       "      <td>&lt;NA&gt;</td>\n",
       "      <td>1.0</td>\n",
       "      <td>2.0</td>\n",
       "      <td>LT</td>\n",
       "      <td>15.0</td>\n",
       "      <td>10.0</td>\n",
       "      <td>&lt;NA&gt;</td>\n",
       "      <td>&lt;NA&gt;</td>\n",
       "      <td>&lt;NA&gt;</td>\n",
       "      <td>&lt;NA&gt;</td>\n",
       "      <td>&lt;NA&gt;</td>\n",
       "      <td>&lt;NA&gt;</td>\n",
       "      <td>&lt;NA&gt;</td>\n",
       "      <td>&lt;NA&gt;</td>\n",
       "      <td>&lt;NA&gt;</td>\n",
       "      <td>&lt;NA&gt;</td>\n",
       "      <td>&lt;NA&gt;</td>\n",
       "      <td>&lt;NA&gt;</td>\n",
       "      <td>0.0</td>\n",
       "      <td>4.0</td>\n",
       "      <td>{\"x\": 2192889.1357402205, \"y\": 668889.97066231...</td>\n",
       "    </tr>\n",
       "    <tr>\n",
       "      <th>2</th>\n",
       "      <td>3</td>\n",
       "      <td>20174001952.0</td>\n",
       "      <td>2017.0</td>\n",
       "      <td>1/1/2017 12:00:00 AM</td>\n",
       "      <td>12.0</td>\n",
       "      <td>CCUYCR00009**C</td>\n",
       "      <td>C</td>\n",
       "      <td>CUY</td>\n",
       "      <td>4.978</td>\n",
       "      <td>41.536373</td>\n",
       "      <td>-81.620804</td>\n",
       "      <td>16000</td>\n",
       "      <td>17668</td>\n",
       "      <td>1/15/2017 12:00:00 AM</td>\n",
       "      <td>3.0</td>\n",
       "      <td>8.0</td>\n",
       "      <td>1.0</td>\n",
       "      <td>N</td>\n",
       "      <td>&lt;NA&gt;</td>\n",
       "      <td>Y</td>\n",
       "      <td>N</td>\n",
       "      <td>4.0</td>\n",
       "      <td>21.0</td>\n",
       "      <td>0.0</td>\n",
       "      <td>&lt;NA&gt;</td>\n",
       "      <td>ac3b359f-342c-4419-a6c3-408eb5bb9f2a</td>\n",
       "      <td>d182e433-67d6-4712-8b92-38e8c7f883f1</td>\n",
       "      <td>N</td>\n",
       "      <td>4.978</td>\n",
       "      <td>CCUYCR00009**C</td>\n",
       "      <td>N</td>\n",
       "      <td>3.0</td>\n",
       "      <td>00914</td>\n",
       "      <td>4.0</td>\n",
       "      <td>1.0</td>\n",
       "      <td>&lt;NA&gt;</td>\n",
       "      <td>1.0</td>\n",
       "      <td>1.0</td>\n",
       "      <td>2.0</td>\n",
       "      <td>CLEVELAND</td>\n",
       "      <td>...</td>\n",
       "      <td>6.0</td>\n",
       "      <td>NT</td>\n",
       "      <td>23.0</td>\n",
       "      <td>0.0</td>\n",
       "      <td>56.0</td>\n",
       "      <td>1.0</td>\n",
       "      <td>4.0</td>\n",
       "      <td>1.0</td>\n",
       "      <td>1.0</td>\n",
       "      <td>M</td>\n",
       "      <td>&lt;NA&gt;</td>\n",
       "      <td>1.0</td>\n",
       "      <td>25.0</td>\n",
       "      <td>6.0</td>\n",
       "      <td>44.0</td>\n",
       "      <td>&lt;NA&gt;</td>\n",
       "      <td>&lt;NA&gt;</td>\n",
       "      <td>&lt;NA&gt;</td>\n",
       "      <td>&lt;NA&gt;</td>\n",
       "      <td>&lt;NA&gt;</td>\n",
       "      <td>1.0</td>\n",
       "      <td>6.0</td>\n",
       "      <td>LT</td>\n",
       "      <td>3.0</td>\n",
       "      <td>10.0</td>\n",
       "      <td>&lt;NA&gt;</td>\n",
       "      <td>&lt;NA&gt;</td>\n",
       "      <td>&lt;NA&gt;</td>\n",
       "      <td>&lt;NA&gt;</td>\n",
       "      <td>&lt;NA&gt;</td>\n",
       "      <td>&lt;NA&gt;</td>\n",
       "      <td>&lt;NA&gt;</td>\n",
       "      <td>&lt;NA&gt;</td>\n",
       "      <td>&lt;NA&gt;</td>\n",
       "      <td>&lt;NA&gt;</td>\n",
       "      <td>&lt;NA&gt;</td>\n",
       "      <td>&lt;NA&gt;</td>\n",
       "      <td>0.0</td>\n",
       "      <td>1.0</td>\n",
       "      <td>{\"x\": 2209199.9312025607, \"y\": 682400.34685672...</td>\n",
       "    </tr>\n",
       "    <tr>\n",
       "      <th>3</th>\n",
       "      <td>4</td>\n",
       "      <td>20174001969.0</td>\n",
       "      <td>2017.0</td>\n",
       "      <td>1/1/2017 12:00:00 AM</td>\n",
       "      <td>12.0</td>\n",
       "      <td>SCUYUS00322**C</td>\n",
       "      <td>S</td>\n",
       "      <td>CUY</td>\n",
       "      <td>0.86</td>\n",
       "      <td>41.503394</td>\n",
       "      <td>-81.678955</td>\n",
       "      <td>16000</td>\n",
       "      <td>17668</td>\n",
       "      <td>1/24/2017 12:00:00 AM</td>\n",
       "      <td>5.0</td>\n",
       "      <td>2.0</td>\n",
       "      <td>3.0</td>\n",
       "      <td>N</td>\n",
       "      <td>2.0</td>\n",
       "      <td>N</td>\n",
       "      <td>N</td>\n",
       "      <td>3.0</td>\n",
       "      <td>16.0</td>\n",
       "      <td>0.0</td>\n",
       "      <td>&lt;NA&gt;</td>\n",
       "      <td>503a8f60-7e92-4a56-9913-998a5d3ae7e2</td>\n",
       "      <td>62b5f64e-baf8-48c0-afb7-4729fee60f5a</td>\n",
       "      <td>N</td>\n",
       "      <td>0.86</td>\n",
       "      <td>SCUYUS00322**C</td>\n",
       "      <td>N</td>\n",
       "      <td>1.0</td>\n",
       "      <td>00942</td>\n",
       "      <td>4.0</td>\n",
       "      <td>1.0</td>\n",
       "      <td>N</td>\n",
       "      <td>2.0</td>\n",
       "      <td>0.0</td>\n",
       "      <td>2.0</td>\n",
       "      <td>CLEVELAND</td>\n",
       "      <td>...</td>\n",
       "      <td>2.0</td>\n",
       "      <td>NT</td>\n",
       "      <td>99.0</td>\n",
       "      <td>0.0</td>\n",
       "      <td>66.0</td>\n",
       "      <td>1.0</td>\n",
       "      <td>3.0</td>\n",
       "      <td>4.0</td>\n",
       "      <td>1.0</td>\n",
       "      <td>F</td>\n",
       "      <td>&lt;NA&gt;</td>\n",
       "      <td>1.0</td>\n",
       "      <td>25.0</td>\n",
       "      <td>11.0</td>\n",
       "      <td>20.0</td>\n",
       "      <td>&lt;NA&gt;</td>\n",
       "      <td>&lt;NA&gt;</td>\n",
       "      <td>&lt;NA&gt;</td>\n",
       "      <td>&lt;NA&gt;</td>\n",
       "      <td>&lt;NA&gt;</td>\n",
       "      <td>1.0</td>\n",
       "      <td>6.0</td>\n",
       "      <td>NT</td>\n",
       "      <td>3.0</td>\n",
       "      <td>&lt;NA&gt;</td>\n",
       "      <td>&lt;NA&gt;</td>\n",
       "      <td>&lt;NA&gt;</td>\n",
       "      <td>&lt;NA&gt;</td>\n",
       "      <td>&lt;NA&gt;</td>\n",
       "      <td>&lt;NA&gt;</td>\n",
       "      <td>&lt;NA&gt;</td>\n",
       "      <td>&lt;NA&gt;</td>\n",
       "      <td>&lt;NA&gt;</td>\n",
       "      <td>&lt;NA&gt;</td>\n",
       "      <td>&lt;NA&gt;</td>\n",
       "      <td>&lt;NA&gt;</td>\n",
       "      <td>&lt;NA&gt;</td>\n",
       "      <td>0.0</td>\n",
       "      <td>4.0</td>\n",
       "      <td>{\"x\": 2193393.4559258074, \"y\": 670229.09298406...</td>\n",
       "    </tr>\n",
       "    <tr>\n",
       "      <th>4</th>\n",
       "      <td>5</td>\n",
       "      <td>20174001970.0</td>\n",
       "      <td>2017.0</td>\n",
       "      <td>1/1/2017 12:00:00 AM</td>\n",
       "      <td>12.0</td>\n",
       "      <td>CCUYCR00009**C</td>\n",
       "      <td>C</td>\n",
       "      <td>CUY</td>\n",
       "      <td>5.765</td>\n",
       "      <td>41.540792</td>\n",
       "      <td>-81.607019</td>\n",
       "      <td>16000</td>\n",
       "      <td>17668</td>\n",
       "      <td>1/23/2017 12:00:00 AM</td>\n",
       "      <td>5.0</td>\n",
       "      <td>19.0</td>\n",
       "      <td>2.0</td>\n",
       "      <td>N</td>\n",
       "      <td>&lt;NA&gt;</td>\n",
       "      <td>N</td>\n",
       "      <td>N</td>\n",
       "      <td>4.0</td>\n",
       "      <td>11.0</td>\n",
       "      <td>0.0</td>\n",
       "      <td>&lt;NA&gt;</td>\n",
       "      <td>f8e1afec-0a14-40dd-ac7b-66b664bb2e8e</td>\n",
       "      <td>eecbdef6-adf7-4adf-95a5-d74b65171c72</td>\n",
       "      <td>N</td>\n",
       "      <td>5.765</td>\n",
       "      <td>CCUYCR00009**C</td>\n",
       "      <td>Y</td>\n",
       "      <td>1.0</td>\n",
       "      <td>00934</td>\n",
       "      <td>4.0</td>\n",
       "      <td>1.0</td>\n",
       "      <td>&lt;NA&gt;</td>\n",
       "      <td>4.0</td>\n",
       "      <td>0.0</td>\n",
       "      <td>2.0</td>\n",
       "      <td>CLEVELAND</td>\n",
       "      <td>...</td>\n",
       "      <td>6.0</td>\n",
       "      <td>RT</td>\n",
       "      <td>5.0</td>\n",
       "      <td>10.0</td>\n",
       "      <td>82.0</td>\n",
       "      <td>1.0</td>\n",
       "      <td>4.0</td>\n",
       "      <td>3.0</td>\n",
       "      <td>1.0</td>\n",
       "      <td>F</td>\n",
       "      <td>&lt;NA&gt;</td>\n",
       "      <td>1.0</td>\n",
       "      <td>35.0</td>\n",
       "      <td>1.0</td>\n",
       "      <td>20.0</td>\n",
       "      <td>&lt;NA&gt;</td>\n",
       "      <td>&lt;NA&gt;</td>\n",
       "      <td>&lt;NA&gt;</td>\n",
       "      <td>&lt;NA&gt;</td>\n",
       "      <td>&lt;NA&gt;</td>\n",
       "      <td>1.0</td>\n",
       "      <td>6.0</td>\n",
       "      <td>NT</td>\n",
       "      <td>1.0</td>\n",
       "      <td>15.0</td>\n",
       "      <td>&lt;NA&gt;</td>\n",
       "      <td>&lt;NA&gt;</td>\n",
       "      <td>&lt;NA&gt;</td>\n",
       "      <td>&lt;NA&gt;</td>\n",
       "      <td>&lt;NA&gt;</td>\n",
       "      <td>&lt;NA&gt;</td>\n",
       "      <td>&lt;NA&gt;</td>\n",
       "      <td>&lt;NA&gt;</td>\n",
       "      <td>&lt;NA&gt;</td>\n",
       "      <td>&lt;NA&gt;</td>\n",
       "      <td>&lt;NA&gt;</td>\n",
       "      <td>&lt;NA&gt;</td>\n",
       "      <td>0.0</td>\n",
       "      <td>1.0</td>\n",
       "      <td>{\"x\": 2212957.254068464, \"y\": 684048.772037565...</td>\n",
       "    </tr>\n",
       "  </tbody>\n",
       "</table>\n",
       "<p>5 rows × 149 columns</p>\n",
       "</div>"
      ],
      "text/plain": [
       "   OBJECTID  ...                                              SHAPE\n",
       "0         1  ...  {\"x\": 2209355.6854842156, \"y\": 651613.02818214...\n",
       "1         2  ...  {\"x\": 2192889.1357402205, \"y\": 668889.97066231...\n",
       "2         3  ...  {\"x\": 2209199.9312025607, \"y\": 682400.34685672...\n",
       "3         4  ...  {\"x\": 2193393.4559258074, \"y\": 670229.09298406...\n",
       "4         5  ...  {\"x\": 2212957.254068464, \"y\": 684048.772037565...\n",
       "\n",
       "[5 rows x 149 columns]"
      ]
     },
     "execution_count": 5,
     "metadata": {},
     "output_type": "execute_result"
    }
   ],
   "source": [
    "# Lastly, lets get the DataFrame from the FeatureSet, this is contained in the .sdf property of the FeatureSet. \n",
    "crashes_sdf = crashes_featureset.sdf\n",
    "crashes_sdf.head()"
   ]
  },
  {
   "cell_type": "markdown",
   "metadata": {
    "application/vnd.databricks.v1+cell": {
     "cellMetadata": {
      "byteLimit": 2048000,
      "rowLimit": 10000
     },
     "inputWidgets": {},
     "nuid": "bce32e41-5e27-4e1a-95d5-f8bfc7a9e9ce",
     "showTitle": false,
     "title": ""
    }
   },
   "source": [
    "Convert the `DataFrame` into a `GeoDataFrame`, using the `DataFrame` from the previous step, alongside the *CRS* from two steps ago. We will also only select the columns we need for later analysis."
   ]
  },
  {
   "cell_type": "code",
   "execution_count": 0,
   "metadata": {
    "application/vnd.databricks.v1+cell": {
     "cellMetadata": {
      "byteLimit": 2048000,
      "rowLimit": 10000
     },
     "inputWidgets": {},
     "nuid": "55935220-319e-477e-9d88-06f607521ac7",
     "showTitle": false,
     "title": ""
    }
   },
   "outputs": [
    {
     "output_type": "execute_result",
     "data": {
      "text/html": [
       "<div>\n",
       "<style scoped>\n",
       "    .dataframe tbody tr th:only-of-type {\n",
       "        vertical-align: middle;\n",
       "    }\n",
       "\n",
       "    .dataframe tbody tr th {\n",
       "        vertical-align: top;\n",
       "    }\n",
       "\n",
       "    .dataframe thead th {\n",
       "        text-align: right;\n",
       "    }\n",
       "</style>\n",
       "<table border=\"1\" class=\"dataframe\">\n",
       "  <thead>\n",
       "    <tr style=\"text-align: right;\">\n",
       "      <th></th>\n",
       "      <th>OBJECTID</th>\n",
       "      <th>CRASH_YR</th>\n",
       "      <th>FUNCTIONAL_CLASS_CD</th>\n",
       "      <th>geometry</th>\n",
       "    </tr>\n",
       "  </thead>\n",
       "  <tbody>\n",
       "    <tr>\n",
       "      <th>0</th>\n",
       "      <td>1</td>\n",
       "      <td>2017.0</td>\n",
       "      <td>4.0</td>\n",
       "      <td>POINT (2209355.685 651613.028)</td>\n",
       "    </tr>\n",
       "    <tr>\n",
       "      <th>1</th>\n",
       "      <td>2</td>\n",
       "      <td>2017.0</td>\n",
       "      <td>5.0</td>\n",
       "      <td>POINT (2192889.136 668889.971)</td>\n",
       "    </tr>\n",
       "    <tr>\n",
       "      <th>2</th>\n",
       "      <td>3</td>\n",
       "      <td>2017.0</td>\n",
       "      <td>4.0</td>\n",
       "      <td>POINT (2209199.931 682400.347)</td>\n",
       "    </tr>\n",
       "    <tr>\n",
       "      <th>3</th>\n",
       "      <td>4</td>\n",
       "      <td>2017.0</td>\n",
       "      <td>3.0</td>\n",
       "      <td>POINT (2193393.456 670229.093)</td>\n",
       "    </tr>\n",
       "    <tr>\n",
       "      <th>4</th>\n",
       "      <td>5</td>\n",
       "      <td>2017.0</td>\n",
       "      <td>4.0</td>\n",
       "      <td>POINT (2212957.254 684048.772)</td>\n",
       "    </tr>\n",
       "  </tbody>\n",
       "</table>\n",
       "</div>"
      ],
      "text/plain": [
       "   OBJECTID  CRASH_YR  FUNCTIONAL_CLASS_CD                        geometry\n",
       "0         1    2017.0                  4.0  POINT (2209355.685 651613.028)\n",
       "1         2    2017.0                  5.0  POINT (2192889.136 668889.971)\n",
       "2         3    2017.0                  4.0  POINT (2209199.931 682400.347)\n",
       "3         4    2017.0                  3.0  POINT (2193393.456 670229.093)\n",
       "4         5    2017.0                  4.0  POINT (2212957.254 684048.772)"
      ]
     },
     "execution_count": 6,
     "metadata": {},
     "output_type": "execute_result"
    }
   ],
   "source": [
    "# We will then convert the DataFrame to a GeoDataFrame, so we can perform spatial analysis with geopandas.\n",
    "columns = ['OBJECTID','CRASH_YR','FUNCTIONAL_CLASS_CD','geometry']\n",
    "crashes_gdf = gpd.GeoDataFrame(crashes_sdf, geometry=crashes_sdf.SHAPE, crs=crashes_crs)[columns]\n",
    "crashes_gdf.head()"
   ]
  },
  {
   "cell_type": "markdown",
   "metadata": {
    "application/vnd.databricks.v1+cell": {
     "cellMetadata": {
      "byteLimit": 2048000,
      "rowLimit": 10000
     },
     "inputWidgets": {},
     "nuid": "de5287ee-2e8f-408a-a93b-6cb234f7c020",
     "showTitle": false,
     "title": ""
    }
   },
   "source": [
    "Now we will repeat this process for the Neighborhoods dataset"
   ]
  },
  {
   "cell_type": "code",
   "execution_count": 0,
   "metadata": {
    "application/vnd.databricks.v1+cell": {
     "cellMetadata": {
      "byteLimit": 2048000,
      "rowLimit": 10000
     },
     "inputWidgets": {},
     "nuid": "077348e7-40cf-453f-bd18-6d64d9a974be",
     "showTitle": false,
     "title": ""
    }
   },
   "outputs": [
    {
     "output_type": "execute_result",
     "data": {
      "text/html": [
       "<div>\n",
       "<style scoped>\n",
       "    .dataframe tbody tr th:only-of-type {\n",
       "        vertical-align: middle;\n",
       "    }\n",
       "\n",
       "    .dataframe tbody tr th {\n",
       "        vertical-align: top;\n",
       "    }\n",
       "\n",
       "    .dataframe thead th {\n",
       "        text-align: right;\n",
       "    }\n",
       "</style>\n",
       "<table border=\"1\" class=\"dataframe\">\n",
       "  <thead>\n",
       "    <tr style=\"text-align: right;\">\n",
       "      <th></th>\n",
       "      <th>SPANM</th>\n",
       "      <th>geometry</th>\n",
       "    </tr>\n",
       "  </thead>\n",
       "  <tbody>\n",
       "    <tr>\n",
       "      <th>0</th>\n",
       "      <td>North Shore Collinwood</td>\n",
       "      <td>MULTIPOLYGON (((2228297.801 705482.512, 222832...</td>\n",
       "    </tr>\n",
       "    <tr>\n",
       "      <th>1</th>\n",
       "      <td>Collinwood-Nottingham</td>\n",
       "      <td>MULTIPOLYGON (((2217876.552 692522.199, 221897...</td>\n",
       "    </tr>\n",
       "    <tr>\n",
       "      <th>2</th>\n",
       "      <td>Euclid-Green</td>\n",
       "      <td>MULTIPOLYGON (((2227403.225 691768.527, 222742...</td>\n",
       "    </tr>\n",
       "    <tr>\n",
       "      <th>3</th>\n",
       "      <td>Glenville</td>\n",
       "      <td>MULTIPOLYGON (((2217208.150 688382.125, 221724...</td>\n",
       "    </tr>\n",
       "    <tr>\n",
       "      <th>4</th>\n",
       "      <td>St.Clair-Superior</td>\n",
       "      <td>MULTIPOLYGON (((2205138.324 684299.803, 220515...</td>\n",
       "    </tr>\n",
       "  </tbody>\n",
       "</table>\n",
       "</div>"
      ],
      "text/plain": [
       "                    SPANM                                           geometry\n",
       "0  North Shore Collinwood  MULTIPOLYGON (((2228297.801 705482.512, 222832...\n",
       "1   Collinwood-Nottingham  MULTIPOLYGON (((2217876.552 692522.199, 221897...\n",
       "2            Euclid-Green  MULTIPOLYGON (((2227403.225 691768.527, 222742...\n",
       "3               Glenville  MULTIPOLYGON (((2217208.150 688382.125, 221724...\n",
       "4       St.Clair-Superior  MULTIPOLYGON (((2205138.324 684299.803, 220515..."
      ]
     },
     "execution_count": 7,
     "metadata": {},
     "output_type": "execute_result"
    }
   ],
   "source": [
    "# Now, repeat the above process for Neighborhoods\n",
    "neighborhoods_service_url = \"https://www.clevelandgis.org/arcgis/rest/services/ReferenceLayers/SPA/FeatureServer/0\"\n",
    "neighborhoods_featureservice = arcgis.features.FeatureLayer(neighborhoods_service_url)\n",
    "neighborhoods_featureset = neighborhoods_featureservice.query()\n",
    "neighborhoods_crs = neighborhoods_featureset.spatial_reference['latestWkid']\n",
    "neighborhoods_sdf = neighborhoods_featureset.sdf\n",
    "neighborhoods_gdf = gpd.GeoDataFrame(neighborhoods_sdf, geometry=neighborhoods_sdf.SHAPE, crs=neighborhoods_crs)[['SPANM','geometry']]\n",
    "neighborhoods_gdf['geometry'] = neighborhoods_gdf.make_valid()\n",
    "neighborhoods_gdf.head()"
   ]
  },
  {
   "cell_type": "markdown",
   "metadata": {
    "application/vnd.databricks.v1+cell": {
     "cellMetadata": {
      "byteLimit": 2048000,
      "rowLimit": 10000
     },
     "inputWidgets": {},
     "nuid": "f19639f8-995c-42a1-8fec-7206d211c471",
     "showTitle": false,
     "title": ""
    }
   },
   "source": [
    "Now that we've loaded in the data, we can plot it on a map using the `GeoDataFrame.plot()` function. This allows us to quickly visualize our data and make sure we loaded everything in correctly."
   ]
  },
  {
   "cell_type": "code",
   "execution_count": 0,
   "metadata": {
    "application/vnd.databricks.v1+cell": {
     "cellMetadata": {
      "byteLimit": 2048000,
      "rowLimit": 10000
     },
     "inputWidgets": {},
     "nuid": "c9d11154-e153-4eba-87cc-cb90c3b90adf",
     "showTitle": false,
     "title": ""
    }
   },
   "outputs": [
    {
     "output_type": "execute_result",
     "data": {
      "text/plain": [
       "<Axes: >"
      ]
     },
     "execution_count": 8,
     "metadata": {},
     "output_type": "execute_result"
    },
    {
     "output_type": "display_data",
     "data": {
      "image/png": "[encoded data removed]",
      "text/plain": [
       "<Figure size 640x480 with 1 Axes>"
      ]
     },
     "metadata": {},
     "output_type": "display_data"
    }
   ],
   "source": [
    "# Let's plot the data we just retreived, since there are hundreds of thousands of records, we will only map the first 100.\n",
    "base_plot = neighborhoods_gdf.plot(color='white',edgecolor='black')\n",
    "crashes_gdf.head(100).plot(ax=base_plot,color='red',markersize=5)"
   ]
  },
  {
   "cell_type": "markdown",
   "metadata": {
    "application/vnd.databricks.v1+cell": {
     "cellMetadata": {
      "byteLimit": 2048000,
      "rowLimit": 10000
     },
     "inputWidgets": {},
     "nuid": "61e5f7e6-8916-4ff6-a8e6-ec03ab577dd0",
     "showTitle": false,
     "title": ""
    }
   },
   "source": [
    "#### Step 3: Perform a spatial join between crashes and neighborhoods\n",
    "Say we want to know how many crashes happen in each neighborhood. Currently, the `crashes_gdf` GeoDataFrame does not contain any information about what neighborhood it's in. Furthermore, the `neighborhoods_gdf` doesn't have any information about the number of crashes in each neighborhood. Therefore, we have to combine these datasets together using what is known as a [*spatial join*](https://en.wikipedia.org/wiki/Spatial_join).  \n",
    "\n",
    "With `geopandas`, we can perform a spatial join using the [`geopandas.sjoin()`](https://geopandas.org/en/stable/docs/reference/api/geopandas.sjoin.html) function. The `sjoin` function works similarly to a standard table join. We input two `GeoDataFrames` that we want to join together as either a *left*, *right*, or *inner* join. \n",
    "\n",
    "Next, we define the *predicate* we want to use for the join. The *predicate* is effectively the spatial operation we use to link the two datasets together. In the case of this example, we want to know how many crashes are *inside* each neighborhood. Therefore, we will use the *contains* predicate. The *contains* predicate will only join a crash point to a neighborhood polygon if it is completely inside the neighborhood polygon.\n"
   ]
  },
  {
   "cell_type": "code",
   "execution_count": 0,
   "metadata": {
    "application/vnd.databricks.v1+cell": {
     "cellMetadata": {
      "byteLimit": 2048000,
      "rowLimit": 10000
     },
     "inputWidgets": {},
     "nuid": "4836cdf0-7e3b-43fa-bb78-4f07e5b77e5d",
     "showTitle": false,
     "title": ""
    }
   },
   "outputs": [
    {
     "output_type": "execute_result",
     "data": {
      "text/html": [
       "<div>\n",
       "<style scoped>\n",
       "    .dataframe tbody tr th:only-of-type {\n",
       "        vertical-align: middle;\n",
       "    }\n",
       "\n",
       "    .dataframe tbody tr th {\n",
       "        vertical-align: top;\n",
       "    }\n",
       "\n",
       "    .dataframe thead th {\n",
       "        text-align: right;\n",
       "    }\n",
       "</style>\n",
       "<table border=\"1\" class=\"dataframe\">\n",
       "  <thead>\n",
       "    <tr style=\"text-align: right;\">\n",
       "      <th></th>\n",
       "      <th>SPANM</th>\n",
       "      <th>geometry</th>\n",
       "      <th>index_right</th>\n",
       "      <th>OBJECTID</th>\n",
       "      <th>CRASH_YR</th>\n",
       "      <th>FUNCTIONAL_CLASS_CD</th>\n",
       "    </tr>\n",
       "  </thead>\n",
       "  <tbody>\n",
       "    <tr>\n",
       "      <th>0</th>\n",
       "      <td>North Shore Collinwood</td>\n",
       "      <td>MULTIPOLYGON (((2228297.801 705482.512, 222832...</td>\n",
       "      <td>7154</td>\n",
       "      <td>7155</td>\n",
       "      <td>2017.0</td>\n",
       "      <td>1.0</td>\n",
       "    </tr>\n",
       "    <tr>\n",
       "      <th>0</th>\n",
       "      <td>North Shore Collinwood</td>\n",
       "      <td>MULTIPOLYGON (((2228297.801 705482.512, 222832...</td>\n",
       "      <td>126967</td>\n",
       "      <td>126968</td>\n",
       "      <td>2016.0</td>\n",
       "      <td>1.0</td>\n",
       "    </tr>\n",
       "    <tr>\n",
       "      <th>0</th>\n",
       "      <td>North Shore Collinwood</td>\n",
       "      <td>MULTIPOLYGON (((2228297.801 705482.512, 222832...</td>\n",
       "      <td>152275</td>\n",
       "      <td>310661</td>\n",
       "      <td>2022.0</td>\n",
       "      <td>1.0</td>\n",
       "    </tr>\n",
       "    <tr>\n",
       "      <th>0</th>\n",
       "      <td>North Shore Collinwood</td>\n",
       "      <td>MULTIPOLYGON (((2228297.801 705482.512, 222832...</td>\n",
       "      <td>130754</td>\n",
       "      <td>130755</td>\n",
       "      <td>2016.0</td>\n",
       "      <td>1.0</td>\n",
       "    </tr>\n",
       "    <tr>\n",
       "      <th>0</th>\n",
       "      <td>North Shore Collinwood</td>\n",
       "      <td>MULTIPOLYGON (((2228297.801 705482.512, 222832...</td>\n",
       "      <td>113359</td>\n",
       "      <td>113360</td>\n",
       "      <td>2015.0</td>\n",
       "      <td>1.0</td>\n",
       "    </tr>\n",
       "  </tbody>\n",
       "</table>\n",
       "</div>"
      ],
      "text/plain": [
       "                    SPANM  ... FUNCTIONAL_CLASS_CD\n",
       "0  North Shore Collinwood  ...                 1.0\n",
       "0  North Shore Collinwood  ...                 1.0\n",
       "0  North Shore Collinwood  ...                 1.0\n",
       "0  North Shore Collinwood  ...                 1.0\n",
       "0  North Shore Collinwood  ...                 1.0\n",
       "\n",
       "[5 rows x 6 columns]"
      ]
     },
     "execution_count": 10,
     "metadata": {},
     "output_type": "execute_result"
    }
   ],
   "source": [
    "# Perform the spatial join with `.sjoin` method of geopandas\n",
    "crash_neighborhood_join = gpd.sjoin(left_df=neighborhoods_gdf,\n",
    "                                    right_df=crashes_gdf,\n",
    "                                    how='left',\n",
    "                                    predicate='contains')\n",
    "\n",
    "crash_neighborhood_join.head()"
   ]
  },
  {
   "cell_type": "markdown",
   "metadata": {
    "application/vnd.databricks.v1+cell": {
     "cellMetadata": {
      "byteLimit": 2048000,
      "rowLimit": 10000
     },
     "inputWidgets": {},
     "nuid": "3743aa27-3c0c-40be-9d16-dc3ebc296480",
     "showTitle": false,
     "title": ""
    }
   },
   "source": [
    "#### Step 4: Map the data by neighborhood\n",
    "Now that we've spatially joined the crashes dataset to the neighborhoods dataset, we can begin to answer the question \"how many crashes occurred in each neighborhood\". One good way to approach this question is through creating a [choropleth map](https://venngage.com/blog/choropleth-map/#:~:text=A%20choropleth%20map%20is%20a,relation%20to%20a%20data%20variable.). Choropleth maps are commonly used to represent numeric data in a geographic space.  \n",
    "\n",
    "Before we create the choropleth, we have to organize our data by neighborhood. We can achieve this by using the `DataFrame.groupby()`, and then the `.count()` function.  \n",
    "\n",
    "*Note*: When you use `groupby()` on a `GeoDataFrame`, the `GeoDataFrame` will be converted back to a regular pandas `DataFrame`. Therefore, we have to \"re-convert\" the `DataFrame` back into a `GeoDataFrame`."
   ]
  },
  {
   "cell_type": "code",
   "execution_count": 0,
   "metadata": {
    "application/vnd.databricks.v1+cell": {
     "cellMetadata": {
      "byteLimit": 2048000,
      "rowLimit": 10000
     },
     "inputWidgets": {},
     "nuid": "62340283-ff1f-4f3b-9f81-84c3b5785034",
     "showTitle": false,
     "title": ""
    }
   },
   "outputs": [
    {
     "output_type": "execute_result",
     "data": {
      "text/html": [
       "<div>\n",
       "<style scoped>\n",
       "    .dataframe tbody tr th:only-of-type {\n",
       "        vertical-align: middle;\n",
       "    }\n",
       "\n",
       "    .dataframe tbody tr th {\n",
       "        vertical-align: top;\n",
       "    }\n",
       "\n",
       "    .dataframe thead th {\n",
       "        text-align: right;\n",
       "    }\n",
       "</style>\n",
       "<table border=\"1\" class=\"dataframe\">\n",
       "  <thead>\n",
       "    <tr style=\"text-align: right;\">\n",
       "      <th></th>\n",
       "      <th>SPANM</th>\n",
       "      <th>geometry</th>\n",
       "      <th>index_right</th>\n",
       "      <th>OBJECTID</th>\n",
       "      <th>CRASH_YR</th>\n",
       "      <th>FUNCTIONAL_CLASS_CD</th>\n",
       "    </tr>\n",
       "  </thead>\n",
       "  <tbody>\n",
       "    <tr>\n",
       "      <th>0</th>\n",
       "      <td>Bellaire-Puritas</td>\n",
       "      <td>MULTIPOLYGON (((2166865.373 648881.199, 216750...</td>\n",
       "      <td>6235</td>\n",
       "      <td>6235</td>\n",
       "      <td>6235</td>\n",
       "      <td>5926</td>\n",
       "    </tr>\n",
       "    <tr>\n",
       "      <th>1</th>\n",
       "      <td>Broadway-Slavic Village</td>\n",
       "      <td>MULTIPOLYGON (((2200991.024 662326.916, 220100...</td>\n",
       "      <td>7882</td>\n",
       "      <td>7882</td>\n",
       "      <td>7882</td>\n",
       "      <td>7464</td>\n",
       "    </tr>\n",
       "    <tr>\n",
       "      <th>2</th>\n",
       "      <td>Brooklyn Centre</td>\n",
       "      <td>MULTIPOLYGON (((2189462.787 655578.785, 218936...</td>\n",
       "      <td>5372</td>\n",
       "      <td>5372</td>\n",
       "      <td>5372</td>\n",
       "      <td>5168</td>\n",
       "    </tr>\n",
       "    <tr>\n",
       "      <th>3</th>\n",
       "      <td>Buckeye-Shaker Square</td>\n",
       "      <td>MULTIPOLYGON (((2214621.091 667218.541, 221679...</td>\n",
       "      <td>3180</td>\n",
       "      <td>3180</td>\n",
       "      <td>3180</td>\n",
       "      <td>2937</td>\n",
       "    </tr>\n",
       "    <tr>\n",
       "      <th>4</th>\n",
       "      <td>Buckeye-Woodhill</td>\n",
       "      <td>MULTIPOLYGON (((2214257.275 663095.179, 221426...</td>\n",
       "      <td>2327</td>\n",
       "      <td>2327</td>\n",
       "      <td>2327</td>\n",
       "      <td>2203</td>\n",
       "    </tr>\n",
       "  </tbody>\n",
       "</table>\n",
       "</div>"
      ],
      "text/plain": [
       "                     SPANM  ... FUNCTIONAL_CLASS_CD\n",
       "0         Bellaire-Puritas  ...                5926\n",
       "1  Broadway-Slavic Village  ...                7464\n",
       "2          Brooklyn Centre  ...                5168\n",
       "3    Buckeye-Shaker Square  ...                2937\n",
       "4         Buckeye-Woodhill  ...                2203\n",
       "\n",
       "[5 rows x 6 columns]"
      ]
     },
     "execution_count": 11,
     "metadata": {},
     "output_type": "execute_result"
    }
   ],
   "source": [
    "neighborhoods_grouped_gdf = crash_neighborhood_join.groupby(['SPANM','geometry'],as_index=False).count()\n",
    "neighborhoods_grouped_gdf = gpd.GeoDataFrame(neighborhoods_grouped_gdf,geometry='geometry')\n",
    "neighborhoods_grouped_gdf.head()"
   ]
  },
  {
   "cell_type": "markdown",
   "metadata": {
    "application/vnd.databricks.v1+cell": {
     "cellMetadata": {},
     "inputWidgets": {},
     "nuid": "03fd4143-8920-44f5-a330-f62315789a39",
     "showTitle": false,
     "title": ""
    }
   },
   "source": [
    "Now that we've prepped our data, we can create a choropleth map using the [`GeoDataFrame.plot()`](https://geopandas.org/en/stable/docs/user_guide/mapping.html) function."
   ]
  },
  {
   "cell_type": "code",
   "execution_count": 0,
   "metadata": {
    "application/vnd.databricks.v1+cell": {
     "cellMetadata": {
      "byteLimit": 2048000,
      "rowLimit": 10000
     },
     "inputWidgets": {},
     "nuid": "96a5ea66-1b6e-4c3c-8a35-beb596010b3a",
     "showTitle": false,
     "title": ""
    }
   },
   "outputs": [
    {
     "output_type": "execute_result",
     "data": {
      "text/plain": [
       "<Axes: >"
      ]
     },
     "execution_count": 14,
     "metadata": {},
     "output_type": "execute_result"
    },
    {
     "output_type": "display_data",
     "data": {
      "image/png": "[encoded data removed]",
      "text/plain": [
       "<Figure size 640x480 with 2 Axes>"
      ]
     },
     "metadata": {},
     "output_type": "display_data"
    }
   ],
   "source": [
    "neighborhoods_grouped_gdf.plot(column=\"index_right\", legend=True)"
   ]
  },
  {
   "cell_type": "markdown",
   "metadata": {
    "application/vnd.databricks.v1+cell": {
     "cellMetadata": {},
     "inputWidgets": {},
     "nuid": "088957f0-6d27-44c6-ad9d-79f0cf9f458e",
     "showTitle": false,
     "title": ""
    }
   },
   "source": [
    "Based on the results from the choropleth, we can see that Downtown experiences the most crashes."
   ]
  },
  {
   "cell_type": "markdown",
   "metadata": {
    "application/vnd.databricks.v1+cell": {
     "cellMetadata": {},
     "inputWidgets": {},
     "nuid": "f635e9e1-f9f1-436b-9f46-2f1d2508a58c",
     "showTitle": false,
     "title": ""
    }
   },
   "source": [
    "#### Step 5: Plot trends in data over time\n",
    "Since we know which crashes happened in which neighborhood, we can perform some additional analysis on the data. Let's say we want to learn more about how trends in crash frequency has changed over time. We can use the `seaborn` package to easily visualize this information on a line chart.  \n",
    "\n",
    "Before we visualize the data, we need to prepare it into the appropriate shape. We will do this in the following steps:\n",
    "1. Filter for records where `FUNCTIONAL_CLASS_CD != 1`. The `FUNCTIONAL_CLASS_CD` column represents the type of road on which the crash occurred. In this case, we are only interested in crashes that ocurred on local streets. A `FUNCTIONAL_CLASS_CD` value of 1 means that the street is a highway. Therefore, we want to filter out these records.\n",
    "2. Group the data by the year and neighborhood in which the crash ocurred. This is done with the `CRASH_YR` and `SPANM` columns respectively. \n",
    "3. Count the number of records in each group."
   ]
  },
  {
   "cell_type": "code",
   "execution_count": 0,
   "metadata": {
    "application/vnd.databricks.v1+cell": {
     "cellMetadata": {
      "byteLimit": 2048000,
      "rowLimit": 10000
     },
     "inputWidgets": {},
     "nuid": "3b232912-57b3-4832-a6de-e9060aaa43b8",
     "showTitle": false,
     "title": ""
    }
   },
   "outputs": [
    {
     "output_type": "execute_result",
     "data": {
      "text/html": [
       "<div>\n",
       "<style scoped>\n",
       "    .dataframe tbody tr th:only-of-type {\n",
       "        vertical-align: middle;\n",
       "    }\n",
       "\n",
       "    .dataframe tbody tr th {\n",
       "        vertical-align: top;\n",
       "    }\n",
       "\n",
       "    .dataframe thead th {\n",
       "        text-align: right;\n",
       "    }\n",
       "</style>\n",
       "<table border=\"1\" class=\"dataframe\">\n",
       "  <thead>\n",
       "    <tr style=\"text-align: right;\">\n",
       "      <th></th>\n",
       "      <th>CRASH_YR</th>\n",
       "      <th>SPANM</th>\n",
       "      <th>geometry</th>\n",
       "      <th>index_right</th>\n",
       "      <th>OBJECTID</th>\n",
       "      <th>FUNCTIONAL_CLASS_CD</th>\n",
       "    </tr>\n",
       "  </thead>\n",
       "  <tbody>\n",
       "    <tr>\n",
       "      <th>0</th>\n",
       "      <td>2012.0</td>\n",
       "      <td>Bellaire-Puritas</td>\n",
       "      <td>266</td>\n",
       "      <td>266</td>\n",
       "      <td>266</td>\n",
       "      <td>266</td>\n",
       "    </tr>\n",
       "    <tr>\n",
       "      <th>1</th>\n",
       "      <td>2012.0</td>\n",
       "      <td>Broadway-Slavic Village</td>\n",
       "      <td>354</td>\n",
       "      <td>354</td>\n",
       "      <td>354</td>\n",
       "      <td>354</td>\n",
       "    </tr>\n",
       "    <tr>\n",
       "      <th>2</th>\n",
       "      <td>2012.0</td>\n",
       "      <td>Brooklyn Centre</td>\n",
       "      <td>223</td>\n",
       "      <td>223</td>\n",
       "      <td>223</td>\n",
       "      <td>223</td>\n",
       "    </tr>\n",
       "    <tr>\n",
       "      <th>3</th>\n",
       "      <td>2012.0</td>\n",
       "      <td>Buckeye-Shaker Square</td>\n",
       "      <td>178</td>\n",
       "      <td>178</td>\n",
       "      <td>178</td>\n",
       "      <td>178</td>\n",
       "    </tr>\n",
       "    <tr>\n",
       "      <th>4</th>\n",
       "      <td>2012.0</td>\n",
       "      <td>Buckeye-Woodhill</td>\n",
       "      <td>147</td>\n",
       "      <td>147</td>\n",
       "      <td>147</td>\n",
       "      <td>147</td>\n",
       "    </tr>\n",
       "  </tbody>\n",
       "</table>\n",
       "</div>"
      ],
      "text/plain": [
       "   CRASH_YR                    SPANM  ...  OBJECTID  FUNCTIONAL_CLASS_CD\n",
       "0    2012.0         Bellaire-Puritas  ...       266                  266\n",
       "1    2012.0  Broadway-Slavic Village  ...       354                  354\n",
       "2    2012.0          Brooklyn Centre  ...       223                  223\n",
       "3    2012.0    Buckeye-Shaker Square  ...       178                  178\n",
       "4    2012.0         Buckeye-Woodhill  ...       147                  147\n",
       "\n",
       "[5 rows x 6 columns]"
      ]
     },
     "execution_count": 16,
     "metadata": {},
     "output_type": "execute_result"
    }
   ],
   "source": [
    "neighborhood_analysis =(\n",
    "# Filter for crashes not occuring on interstates irrelevant to local context\n",
    "crash_neighborhood_join[crash_neighborhood_join[\"FUNCTIONAL_CLASS_CD\"] != 1]\\\n",
    ".groupby([\"CRASH_YR\",'SPANM'], as_index=False)\\\n",
    ".count()\n",
    ")\n",
    "\n",
    "neighborhood_analysis.head()"
   ]
  },
  {
   "cell_type": "markdown",
   "metadata": {
    "application/vnd.databricks.v1+cell": {
     "cellMetadata": {},
     "inputWidgets": {},
     "nuid": "9cdb6436-9475-4fbe-981f-51b4c091a349",
     "showTitle": false,
     "title": ""
    }
   },
   "source": [
    "For the sake of simplicity, we will only look at the trends for 3 specific neighborhoods: Downtown, Glenville, and Old Brooklyn."
   ]
  },
  {
   "cell_type": "code",
   "execution_count": 0,
   "metadata": {
    "application/vnd.databricks.v1+cell": {
     "cellMetadata": {
      "byteLimit": 2048000,
      "rowLimit": 10000
     },
     "inputWidgets": {},
     "nuid": "aa627ac4-fdb8-46d9-b8d3-925027042bff",
     "showTitle": false,
     "title": ""
    }
   },
   "outputs": [],
   "source": [
    "focus_df = neighborhood_analysis[neighborhood_analysis['SPANM'].isin(['Downtown', 'Glenville', 'Old Brooklyn'])]"
   ]
  },
  {
   "cell_type": "markdown",
   "metadata": {
    "application/vnd.databricks.v1+cell": {
     "cellMetadata": {},
     "inputWidgets": {},
     "nuid": "ccd6ef47-1119-4cb2-847c-cbbaeadaef12",
     "showTitle": false,
     "title": ""
    }
   },
   "source": [
    "Now that we've prepped the data, we can plot it using the [`seaborn.lineplot()`](https://seaborn.pydata.org/generated/seaborn.lineplot.html) function. We will tune the chart using the following parameters:\n",
    "1. `data = focus_df`, this is the dataset we want to build the chart off of.\n",
    "2. `x='CRASH_YEAR'` is the column that will create the X axis. In this case, it is the year the crash ocurred.\n",
    "3. `y='OBJECTID'` is the column that will create the Y axis. In this case, it is the count of crashes that ocurred. Since we used `groupby` and `count` earlier in the process, the `OBJECTID` column is an aggregated count of all crashes by year and neighborhood.\n",
    "4. `hue='SPANM'` is the value by which each line will be colored. In this case, it is the neighborhood in which each crash ocurred."
   ]
  },
  {
   "cell_type": "code",
   "execution_count": 0,
   "metadata": {
    "application/vnd.databricks.v1+cell": {
     "cellMetadata": {
      "byteLimit": 2048000,
      "rowLimit": 10000
     },
     "inputWidgets": {},
     "nuid": "a5b7b306-4a77-4745-837e-4f8a43475276",
     "showTitle": false,
     "title": ""
    }
   },
   "outputs": [
    {
     "output_type": "execute_result",
     "data": {
      "text/plain": [
       "<Axes: xlabel='CRASH_YR', ylabel='OBJECTID'>"
      ]
     },
     "execution_count": 21,
     "metadata": {},
     "output_type": "execute_result"
    },
    {
     "output_type": "display_data",
     "data": {
      "image/png": "[encoded data removed]",
      "text/plain": [
       "<Figure size 640x480 with 1 Axes>"
      ]
     },
     "metadata": {},
     "output_type": "display_data"
    }
   ],
   "source": [
    "sns.lineplot(data=focus_df, x='CRASH_YR', y='OBJECTID', hue='SPANM')"
   ]
  },
  {
   "cell_type": "markdown",
   "metadata": {
    "application/vnd.databricks.v1+cell": {
     "cellMetadata": {},
     "inputWidgets": {},
     "nuid": "d004e80d-363b-4013-a6c7-960ec6c99cdd",
     "showTitle": false,
     "title": ""
    }
   },
   "source": [
    "Based on the results of the analysis, we can see that crashes were increasing across the board from 2012 to 2020. Then, when COVID hit, crashes both in Downtown and Old Brooklyn plummeted. However, in Glenville, the number of crashes actually increased. Since then, crash numbers have generally increased back to or beyond pre-pandemic levels. I think there are some interesting questions that come from these results:\n",
    "1. Why did crashes in Glenville increase during COVID? And why did they fall between 2021 and 2022?\n",
    "2. Why have crashes Downtown increased significantly post-COVID?"
   ]
  }
 ],
 "metadata": {
  "application/vnd.databricks.v1+notebook": {
   "dashboards": [],
   "environmentMetadata": null,
   "language": "python",
   "notebookMetadata": {
    "pythonIndentUnit": 4
   },
   "notebookName": "Intro to Coding with Spatial Data",
   "widgets": {}
  }
 },
 "nbformat": 4,
 "nbformat_minor": 0
}
