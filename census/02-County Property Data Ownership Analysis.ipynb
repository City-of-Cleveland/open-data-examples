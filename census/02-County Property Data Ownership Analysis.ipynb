{
 "cells": [
  {
   "cell_type": "markdown",
   "metadata": {},
   "source": [
    "# **Open Data Examples** | Analyzing Property Ownership Types\n",
    "This notebook will walk you through the following:\n",
    "* Fetch Cuyahoga County GIS and Cuyahoga Fiscal Officer's property data for Cleveland\n",
    "* Use `cledatatoolkit` library to detect property owners that are corporate (businesses, companies, non-profits, i.e. not individuals)\n",
    "\n",
    "To run this notebook, you will need to install the following packages using `pip`:\n",
    "* Cleveland Urban AI's `cledatatoolkit`\n",
    "* `requests`"
   ]
  },
  {
   "cell_type": "code",
   "execution_count": null,
   "metadata": {
    "vscode": {
     "languageId": "plaintext"
    }
   },
   "outputs": [],
   "source": [
    "import cledatatoolkit.property\n",
    "import requests"
   ]
  },
  {
   "cell_type": "markdown",
   "metadata": {},
   "source": [
    "# Download the Cuyahoga County GIS combined parcel dataset for Cleveland only\n",
    "\n",
    "url = \"https://opendata.arcgis.com/api/v3/datasets/a84be47945564300a2119f6b9a411d59_0/downloads/data?format=csv&spatialRefId=4326&where=1%3D1\""
   ]
  }
 ],
 "metadata": {
  "language_info": {
   "name": "python"
  }
 },
 "nbformat": 4,
 "nbformat_minor": 2
}
